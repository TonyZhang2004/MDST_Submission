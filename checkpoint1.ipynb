{
 "cells": [
  {
   "cell_type": "markdown",
   "metadata": {},
   "source": [
    "# Checkpoint 1"
   ]
  },
  {
   "cell_type": "markdown",
   "metadata": {},
   "source": [
    "Reminder: \n",
    "\n",
    "- You are being evaluated for compeletion and effort in this checkpoint. \n",
    "- Avoid manual labor / hard coding as much as possible, everything we've taught you so far are meant to simplify and automate your process."
   ]
  },
  {
   "cell_type": "markdown",
   "metadata": {},
   "source": [
    "We will be working with the same `states_edu.csv` that you should already be familiar with from the tutorial.\n",
    "\n",
    "We investigated Grade 8 reading score in the tutorial. For this checkpoint, you are asked to investigate another test. Here's an overview:\n",
    "\n",
    "* Choose a specific response variable to focus on\n",
    ">Grade 4 Math, Grade 4 Reading, Grade 8 Math\n",
    "* Pick or create features to use\n",
    ">Will all the features be useful in predicting test score? Are some more important than others? Should you standardize, bin, or scale the data?\n",
    "* Explore the data as it relates to that test\n",
    ">Create at least 2 visualizations (graphs), each with a caption describing the graph and what it tells us about the data\n",
    "* Create training and testing data\n",
    ">Do you want to train on all the data? Only data from the last 10 years? Only Michigan data?\n",
    "* Train a ML model to predict outcome \n",
    ">Define what you want to predict, and pick a model in sklearn to use (see sklearn <a href=\"https://scikit-learn.org/stable/modules/linear_model.html\">regressors</a>.\n",
    "* Summarize your findings\n",
    ">Write a 1 paragraph summary of what you did and make a recommendation about if and how student performance can be predicted\n",
    "\n",
    "Include comments throughout your code! Every cleanup and preprocessing task should be documented.\n",
    "\n",
    "Of course, if you're finding this assignment interesting (and we really hope you do!), you are welcome to do more than the requirements! For example, you may want to see if expenditure affects 4th graders more than 8th graders. Maybe you want to look into the extended version of this dataset and see how factors like sex and race are involved. You can include all your work in this notebook when you turn it in -- just always make sure you explain what you did and interpret your results. Good luck!"
   ]
  },
  {
   "cell_type": "markdown",
   "metadata": {},
   "source": [
    "<h2> Data Cleanup </h2>\n",
    "\n",
    "Import `numpy`, `pandas`, and `matplotlib`.\n",
    "\n",
    "(Feel free to import other libraries!)"
   ]
  },
  {
   "cell_type": "code",
   "execution_count": 66,
   "metadata": {},
   "outputs": [],
   "source": [
    "import numpy as np\n",
    "import pandas as pd\n",
    "import matplotlib.pyplot as plt"
   ]
  },
  {
   "cell_type": "markdown",
   "metadata": {},
   "source": [
    "Load in the \"states_edu.csv\" dataset and take a look at the head of the data"
   ]
  },
  {
   "cell_type": "code",
   "execution_count": 67,
   "metadata": {},
   "outputs": [
    {
     "data": {
      "text/html": [
       "<div>\n",
       "<style scoped>\n",
       "    .dataframe tbody tr th:only-of-type {\n",
       "        vertical-align: middle;\n",
       "    }\n",
       "\n",
       "    .dataframe tbody tr th {\n",
       "        vertical-align: top;\n",
       "    }\n",
       "\n",
       "    .dataframe thead th {\n",
       "        text-align: right;\n",
       "    }\n",
       "</style>\n",
       "<table border=\"1\" class=\"dataframe\">\n",
       "  <thead>\n",
       "    <tr style=\"text-align: right;\">\n",
       "      <th></th>\n",
       "      <th>PRIMARY_KEY</th>\n",
       "      <th>STATE</th>\n",
       "      <th>YEAR</th>\n",
       "      <th>ENROLL</th>\n",
       "      <th>TOTAL_REVENUE</th>\n",
       "      <th>FEDERAL_REVENUE</th>\n",
       "      <th>STATE_REVENUE</th>\n",
       "      <th>LOCAL_REVENUE</th>\n",
       "      <th>TOTAL_EXPENDITURE</th>\n",
       "      <th>INSTRUCTION_EXPENDITURE</th>\n",
       "      <th>...</th>\n",
       "      <th>GRADES_4_G</th>\n",
       "      <th>GRADES_8_G</th>\n",
       "      <th>GRADES_12_G</th>\n",
       "      <th>GRADES_1_8_G</th>\n",
       "      <th>GRADES_9_12_G</th>\n",
       "      <th>GRADES_ALL_G</th>\n",
       "      <th>AVG_MATH_4_SCORE</th>\n",
       "      <th>AVG_MATH_8_SCORE</th>\n",
       "      <th>AVG_READING_4_SCORE</th>\n",
       "      <th>AVG_READING_8_SCORE</th>\n",
       "    </tr>\n",
       "  </thead>\n",
       "  <tbody>\n",
       "    <tr>\n",
       "      <th>0</th>\n",
       "      <td>1992_ALABAMA</td>\n",
       "      <td>ALABAMA</td>\n",
       "      <td>1992</td>\n",
       "      <td>NaN</td>\n",
       "      <td>2678885.0</td>\n",
       "      <td>304177.0</td>\n",
       "      <td>1659028.0</td>\n",
       "      <td>715680.0</td>\n",
       "      <td>2653798.0</td>\n",
       "      <td>1481703.0</td>\n",
       "      <td>...</td>\n",
       "      <td>57948.0</td>\n",
       "      <td>58025.0</td>\n",
       "      <td>41167.0</td>\n",
       "      <td>NaN</td>\n",
       "      <td>NaN</td>\n",
       "      <td>731634.0</td>\n",
       "      <td>208.0</td>\n",
       "      <td>252.0</td>\n",
       "      <td>207.0</td>\n",
       "      <td>NaN</td>\n",
       "    </tr>\n",
       "    <tr>\n",
       "      <th>1</th>\n",
       "      <td>1992_ALASKA</td>\n",
       "      <td>ALASKA</td>\n",
       "      <td>1992</td>\n",
       "      <td>NaN</td>\n",
       "      <td>1049591.0</td>\n",
       "      <td>106780.0</td>\n",
       "      <td>720711.0</td>\n",
       "      <td>222100.0</td>\n",
       "      <td>972488.0</td>\n",
       "      <td>498362.0</td>\n",
       "      <td>...</td>\n",
       "      <td>9748.0</td>\n",
       "      <td>8789.0</td>\n",
       "      <td>6714.0</td>\n",
       "      <td>NaN</td>\n",
       "      <td>NaN</td>\n",
       "      <td>122487.0</td>\n",
       "      <td>NaN</td>\n",
       "      <td>NaN</td>\n",
       "      <td>NaN</td>\n",
       "      <td>NaN</td>\n",
       "    </tr>\n",
       "    <tr>\n",
       "      <th>2</th>\n",
       "      <td>1992_ARIZONA</td>\n",
       "      <td>ARIZONA</td>\n",
       "      <td>1992</td>\n",
       "      <td>NaN</td>\n",
       "      <td>3258079.0</td>\n",
       "      <td>297888.0</td>\n",
       "      <td>1369815.0</td>\n",
       "      <td>1590376.0</td>\n",
       "      <td>3401580.0</td>\n",
       "      <td>1435908.0</td>\n",
       "      <td>...</td>\n",
       "      <td>55433.0</td>\n",
       "      <td>49081.0</td>\n",
       "      <td>37410.0</td>\n",
       "      <td>NaN</td>\n",
       "      <td>NaN</td>\n",
       "      <td>673477.0</td>\n",
       "      <td>215.0</td>\n",
       "      <td>265.0</td>\n",
       "      <td>209.0</td>\n",
       "      <td>NaN</td>\n",
       "    </tr>\n",
       "    <tr>\n",
       "      <th>3</th>\n",
       "      <td>1992_ARKANSAS</td>\n",
       "      <td>ARKANSAS</td>\n",
       "      <td>1992</td>\n",
       "      <td>NaN</td>\n",
       "      <td>1711959.0</td>\n",
       "      <td>178571.0</td>\n",
       "      <td>958785.0</td>\n",
       "      <td>574603.0</td>\n",
       "      <td>1743022.0</td>\n",
       "      <td>964323.0</td>\n",
       "      <td>...</td>\n",
       "      <td>34632.0</td>\n",
       "      <td>36011.0</td>\n",
       "      <td>27651.0</td>\n",
       "      <td>NaN</td>\n",
       "      <td>NaN</td>\n",
       "      <td>441490.0</td>\n",
       "      <td>210.0</td>\n",
       "      <td>256.0</td>\n",
       "      <td>211.0</td>\n",
       "      <td>NaN</td>\n",
       "    </tr>\n",
       "    <tr>\n",
       "      <th>4</th>\n",
       "      <td>1992_CALIFORNIA</td>\n",
       "      <td>CALIFORNIA</td>\n",
       "      <td>1992</td>\n",
       "      <td>NaN</td>\n",
       "      <td>26260025.0</td>\n",
       "      <td>2072470.0</td>\n",
       "      <td>16546514.0</td>\n",
       "      <td>7641041.0</td>\n",
       "      <td>27138832.0</td>\n",
       "      <td>14358922.0</td>\n",
       "      <td>...</td>\n",
       "      <td>418418.0</td>\n",
       "      <td>363296.0</td>\n",
       "      <td>270675.0</td>\n",
       "      <td>NaN</td>\n",
       "      <td>NaN</td>\n",
       "      <td>5254844.0</td>\n",
       "      <td>208.0</td>\n",
       "      <td>261.0</td>\n",
       "      <td>202.0</td>\n",
       "      <td>NaN</td>\n",
       "    </tr>\n",
       "  </tbody>\n",
       "</table>\n",
       "<p>5 rows × 25 columns</p>\n",
       "</div>"
      ],
      "text/plain": [
       "       PRIMARY_KEY       STATE  YEAR  ENROLL  TOTAL_REVENUE  FEDERAL_REVENUE  \\\n",
       "0     1992_ALABAMA     ALABAMA  1992     NaN      2678885.0         304177.0   \n",
       "1      1992_ALASKA      ALASKA  1992     NaN      1049591.0         106780.0   \n",
       "2     1992_ARIZONA     ARIZONA  1992     NaN      3258079.0         297888.0   \n",
       "3    1992_ARKANSAS    ARKANSAS  1992     NaN      1711959.0         178571.0   \n",
       "4  1992_CALIFORNIA  CALIFORNIA  1992     NaN     26260025.0        2072470.0   \n",
       "\n",
       "   STATE_REVENUE  LOCAL_REVENUE  TOTAL_EXPENDITURE  INSTRUCTION_EXPENDITURE  \\\n",
       "0      1659028.0       715680.0          2653798.0                1481703.0   \n",
       "1       720711.0       222100.0           972488.0                 498362.0   \n",
       "2      1369815.0      1590376.0          3401580.0                1435908.0   \n",
       "3       958785.0       574603.0          1743022.0                 964323.0   \n",
       "4     16546514.0      7641041.0         27138832.0               14358922.0   \n",
       "\n",
       "   ...  GRADES_4_G  GRADES_8_G  GRADES_12_G  GRADES_1_8_G  GRADES_9_12_G  \\\n",
       "0  ...     57948.0     58025.0      41167.0           NaN            NaN   \n",
       "1  ...      9748.0      8789.0       6714.0           NaN            NaN   \n",
       "2  ...     55433.0     49081.0      37410.0           NaN            NaN   \n",
       "3  ...     34632.0     36011.0      27651.0           NaN            NaN   \n",
       "4  ...    418418.0    363296.0     270675.0           NaN            NaN   \n",
       "\n",
       "   GRADES_ALL_G  AVG_MATH_4_SCORE  AVG_MATH_8_SCORE  AVG_READING_4_SCORE  \\\n",
       "0      731634.0             208.0             252.0                207.0   \n",
       "1      122487.0               NaN               NaN                  NaN   \n",
       "2      673477.0             215.0             265.0                209.0   \n",
       "3      441490.0             210.0             256.0                211.0   \n",
       "4     5254844.0             208.0             261.0                202.0   \n",
       "\n",
       "   AVG_READING_8_SCORE  \n",
       "0                  NaN  \n",
       "1                  NaN  \n",
       "2                  NaN  \n",
       "3                  NaN  \n",
       "4                  NaN  \n",
       "\n",
       "[5 rows x 25 columns]"
      ]
     },
     "execution_count": 67,
     "metadata": {},
     "output_type": "execute_result"
    }
   ],
   "source": [
    "df = pd.read_csv(\"../data/states_edu.csv\")\n",
    "df.head()"
   ]
  },
  {
   "cell_type": "markdown",
   "metadata": {},
   "source": [
    "You should always familiarize yourself with what each column in the dataframe represents. Read about the states_edu dataset here: https://www.kaggle.com/noriuk/us-education-datasets-unification-project"
   ]
  },
  {
   "cell_type": "markdown",
   "metadata": {},
   "source": [
    "Use this space to rename columns, deal with missing data, etc. _(optional)_"
   ]
  },
  {
   "cell_type": "code",
   "execution_count": 68,
   "metadata": {},
   "outputs": [
    {
     "data": {
      "text/plain": [
       "(602, 25)"
      ]
     },
     "execution_count": 68,
     "metadata": {},
     "output_type": "execute_result"
    }
   ],
   "source": [
    "df.dropna(subset=['AVG_MATH_8_SCORE'], inplace=True)\n",
    "df.shape"
   ]
  },
  {
   "cell_type": "markdown",
   "metadata": {},
   "source": [
    "<h2>Exploratory Data Analysis (EDA) </h2>"
   ]
  },
  {
   "cell_type": "markdown",
   "metadata": {},
   "source": [
    "Chosen Outcome Variable for Test: *Grade 8 Math*"
   ]
  },
  {
   "cell_type": "markdown",
   "metadata": {},
   "source": [
    "How many years of data are logged in our dataset? "
   ]
  },
  {
   "cell_type": "code",
   "execution_count": 69,
   "metadata": {},
   "outputs": [
    {
     "data": {
      "text/plain": [
       "13"
      ]
     },
     "execution_count": 69,
     "metadata": {},
     "output_type": "execute_result"
    }
   ],
   "source": [
    "df['YEAR'].nunique()"
   ]
  },
  {
   "cell_type": "markdown",
   "metadata": {},
   "source": [
    "Let's compare Michigan to Ohio. Which state has the higher average outcome score across all years?"
   ]
  },
  {
   "cell_type": "code",
   "execution_count": 70,
   "metadata": {},
   "outputs": [
    {
     "data": {
      "text/html": [
       "<div>\n",
       "<style scoped>\n",
       "    .dataframe tbody tr th:only-of-type {\n",
       "        vertical-align: middle;\n",
       "    }\n",
       "\n",
       "    .dataframe tbody tr th {\n",
       "        vertical-align: top;\n",
       "    }\n",
       "\n",
       "    .dataframe thead th {\n",
       "        text-align: right;\n",
       "    }\n",
       "</style>\n",
       "<table border=\"1\" class=\"dataframe\">\n",
       "  <thead>\n",
       "    <tr style=\"text-align: right;\">\n",
       "      <th></th>\n",
       "      <th>PRIMARY_KEY</th>\n",
       "      <th>STATE</th>\n",
       "      <th>YEAR</th>\n",
       "      <th>ENROLL</th>\n",
       "      <th>TOTAL_REVENUE</th>\n",
       "      <th>FEDERAL_REVENUE</th>\n",
       "      <th>STATE_REVENUE</th>\n",
       "      <th>LOCAL_REVENUE</th>\n",
       "      <th>TOTAL_EXPENDITURE</th>\n",
       "      <th>INSTRUCTION_EXPENDITURE</th>\n",
       "      <th>...</th>\n",
       "      <th>GRADES_4_G</th>\n",
       "      <th>GRADES_8_G</th>\n",
       "      <th>GRADES_12_G</th>\n",
       "      <th>GRADES_1_8_G</th>\n",
       "      <th>GRADES_9_12_G</th>\n",
       "      <th>GRADES_ALL_G</th>\n",
       "      <th>AVG_MATH_4_SCORE</th>\n",
       "      <th>AVG_MATH_8_SCORE</th>\n",
       "      <th>AVG_READING_4_SCORE</th>\n",
       "      <th>AVG_READING_8_SCORE</th>\n",
       "    </tr>\n",
       "  </thead>\n",
       "  <tbody>\n",
       "    <tr>\n",
       "      <th>22</th>\n",
       "      <td>1992_MICHIGAN</td>\n",
       "      <td>MICHIGAN</td>\n",
       "      <td>1992</td>\n",
       "      <td>NaN</td>\n",
       "      <td>9963137.0</td>\n",
       "      <td>537917.0</td>\n",
       "      <td>2539380.0</td>\n",
       "      <td>6885840.0</td>\n",
       "      <td>10170688.0</td>\n",
       "      <td>4681327.0</td>\n",
       "      <td>...</td>\n",
       "      <td>118963.0</td>\n",
       "      <td>114282.0</td>\n",
       "      <td>90655.0</td>\n",
       "      <td>NaN</td>\n",
       "      <td>NaN</td>\n",
       "      <td>1603610.0</td>\n",
       "      <td>220.0</td>\n",
       "      <td>267.0</td>\n",
       "      <td>216.0</td>\n",
       "      <td>NaN</td>\n",
       "    </tr>\n",
       "    <tr>\n",
       "      <th>430</th>\n",
       "      <td>2000_MICHIGAN</td>\n",
       "      <td>MICHIGAN</td>\n",
       "      <td>2000</td>\n",
       "      <td>1700074.0</td>\n",
       "      <td>15939477.0</td>\n",
       "      <td>1030238.0</td>\n",
       "      <td>9942275.0</td>\n",
       "      <td>4966964.0</td>\n",
       "      <td>16580526.0</td>\n",
       "      <td>7709336.0</td>\n",
       "      <td>...</td>\n",
       "      <td>134163.0</td>\n",
       "      <td>128743.0</td>\n",
       "      <td>101900.0</td>\n",
       "      <td>1053309.0</td>\n",
       "      <td>486726.0</td>\n",
       "      <td>1720626.0</td>\n",
       "      <td>229.0</td>\n",
       "      <td>277.0</td>\n",
       "      <td>NaN</td>\n",
       "      <td>NaN</td>\n",
       "    </tr>\n",
       "    <tr>\n",
       "      <th>583</th>\n",
       "      <td>2003_MICHIGAN</td>\n",
       "      <td>MICHIGAN</td>\n",
       "      <td>2003</td>\n",
       "      <td>1764327.0</td>\n",
       "      <td>18488359.0</td>\n",
       "      <td>1357006.0</td>\n",
       "      <td>11227903.0</td>\n",
       "      <td>5903450.0</td>\n",
       "      <td>19680370.0</td>\n",
       "      <td>8725075.0</td>\n",
       "      <td>...</td>\n",
       "      <td>127659.0</td>\n",
       "      <td>139797.0</td>\n",
       "      <td>108688.0</td>\n",
       "      <td>1045762.0</td>\n",
       "      <td>514701.0</td>\n",
       "      <td>1757604.0</td>\n",
       "      <td>236.0</td>\n",
       "      <td>276.0</td>\n",
       "      <td>219.0</td>\n",
       "      <td>264.0</td>\n",
       "    </tr>\n",
       "    <tr>\n",
       "      <th>685</th>\n",
       "      <td>2005_MICHIGAN</td>\n",
       "      <td>MICHIGAN</td>\n",
       "      <td>2005</td>\n",
       "      <td>1721351.0</td>\n",
       "      <td>19106382.0</td>\n",
       "      <td>1513264.0</td>\n",
       "      <td>10990030.0</td>\n",
       "      <td>6603088.0</td>\n",
       "      <td>20489512.0</td>\n",
       "      <td>9269314.0</td>\n",
       "      <td>...</td>\n",
       "      <td>121830.0</td>\n",
       "      <td>134113.0</td>\n",
       "      <td>113351.0</td>\n",
       "      <td>1008809.0</td>\n",
       "      <td>538642.0</td>\n",
       "      <td>1742282.0</td>\n",
       "      <td>238.0</td>\n",
       "      <td>277.0</td>\n",
       "      <td>218.0</td>\n",
       "      <td>261.0</td>\n",
       "    </tr>\n",
       "    <tr>\n",
       "      <th>787</th>\n",
       "      <td>2007_MICHIGAN</td>\n",
       "      <td>MICHIGAN</td>\n",
       "      <td>2007</td>\n",
       "      <td>1686473.0</td>\n",
       "      <td>20576110.0</td>\n",
       "      <td>1541818.0</td>\n",
       "      <td>11383198.0</td>\n",
       "      <td>7651094.0</td>\n",
       "      <td>19839838.0</td>\n",
       "      <td>9608836.0</td>\n",
       "      <td>...</td>\n",
       "      <td>118931.0</td>\n",
       "      <td>126608.0</td>\n",
       "      <td>126380.0</td>\n",
       "      <td>970882.0</td>\n",
       "      <td>549291.0</td>\n",
       "      <td>1692739.0</td>\n",
       "      <td>238.0</td>\n",
       "      <td>277.0</td>\n",
       "      <td>220.0</td>\n",
       "      <td>260.0</td>\n",
       "    </tr>\n",
       "    <tr>\n",
       "      <th>889</th>\n",
       "      <td>2009_MICHIGAN</td>\n",
       "      <td>MICHIGAN</td>\n",
       "      <td>2009</td>\n",
       "      <td>1537515.0</td>\n",
       "      <td>19616665.0</td>\n",
       "      <td>2094714.0</td>\n",
       "      <td>10130740.0</td>\n",
       "      <td>7391211.0</td>\n",
       "      <td>19992550.0</td>\n",
       "      <td>9422685.0</td>\n",
       "      <td>...</td>\n",
       "      <td>118702.0</td>\n",
       "      <td>121463.0</td>\n",
       "      <td>126181.0</td>\n",
       "      <td>948457.0</td>\n",
       "      <td>529531.0</td>\n",
       "      <td>1649082.0</td>\n",
       "      <td>236.0</td>\n",
       "      <td>278.0</td>\n",
       "      <td>218.0</td>\n",
       "      <td>262.0</td>\n",
       "    </tr>\n",
       "    <tr>\n",
       "      <th>991</th>\n",
       "      <td>2011_MICHIGAN</td>\n",
       "      <td>MICHIGAN</td>\n",
       "      <td>2011</td>\n",
       "      <td>1455966.0</td>\n",
       "      <td>19374026.0</td>\n",
       "      <td>2525528.0</td>\n",
       "      <td>9845508.0</td>\n",
       "      <td>7002990.0</td>\n",
       "      <td>18469948.0</td>\n",
       "      <td>9198775.0</td>\n",
       "      <td>...</td>\n",
       "      <td>112465.0</td>\n",
       "      <td>118628.0</td>\n",
       "      <td>120498.0</td>\n",
       "      <td>920586.0</td>\n",
       "      <td>500042.0</td>\n",
       "      <td>1573537.0</td>\n",
       "      <td>236.0</td>\n",
       "      <td>280.0</td>\n",
       "      <td>219.0</td>\n",
       "      <td>265.0</td>\n",
       "    </tr>\n",
       "    <tr>\n",
       "      <th>1093</th>\n",
       "      <td>2013_MICHIGAN</td>\n",
       "      <td>MICHIGAN</td>\n",
       "      <td>2013</td>\n",
       "      <td>1381167.0</td>\n",
       "      <td>18270327.0</td>\n",
       "      <td>1636324.0</td>\n",
       "      <td>9882361.0</td>\n",
       "      <td>6751642.0</td>\n",
       "      <td>17468264.0</td>\n",
       "      <td>8885537.0</td>\n",
       "      <td>...</td>\n",
       "      <td>113420.0</td>\n",
       "      <td>118440.0</td>\n",
       "      <td>116607.0</td>\n",
       "      <td>910594.0</td>\n",
       "      <td>487518.0</td>\n",
       "      <td>1548841.0</td>\n",
       "      <td>237.0</td>\n",
       "      <td>280.0</td>\n",
       "      <td>217.0</td>\n",
       "      <td>266.0</td>\n",
       "    </tr>\n",
       "    <tr>\n",
       "      <th>1195</th>\n",
       "      <td>2015_MICHIGAN</td>\n",
       "      <td>MICHIGAN</td>\n",
       "      <td>2015</td>\n",
       "      <td>1345009.0</td>\n",
       "      <td>19025996.0</td>\n",
       "      <td>1582706.0</td>\n",
       "      <td>10510346.0</td>\n",
       "      <td>6932944.0</td>\n",
       "      <td>17742903.0</td>\n",
       "      <td>9040821.0</td>\n",
       "      <td>...</td>\n",
       "      <td>111267.0</td>\n",
       "      <td>113640.0</td>\n",
       "      <td>114700.0</td>\n",
       "      <td>887682.0</td>\n",
       "      <td>482540.0</td>\n",
       "      <td>1536231.0</td>\n",
       "      <td>236.0</td>\n",
       "      <td>278.0</td>\n",
       "      <td>216.0</td>\n",
       "      <td>264.0</td>\n",
       "    </tr>\n",
       "    <tr>\n",
       "      <th>1433</th>\n",
       "      <td>1990_MICHIGAN</td>\n",
       "      <td>MICHIGAN</td>\n",
       "      <td>1990</td>\n",
       "      <td>NaN</td>\n",
       "      <td>NaN</td>\n",
       "      <td>NaN</td>\n",
       "      <td>NaN</td>\n",
       "      <td>NaN</td>\n",
       "      <td>NaN</td>\n",
       "      <td>NaN</td>\n",
       "      <td>...</td>\n",
       "      <td>117560.0</td>\n",
       "      <td>109328.0</td>\n",
       "      <td>91769.0</td>\n",
       "      <td>NaN</td>\n",
       "      <td>NaN</td>\n",
       "      <td>1584431.0</td>\n",
       "      <td>NaN</td>\n",
       "      <td>264.0</td>\n",
       "      <td>NaN</td>\n",
       "      <td>NaN</td>\n",
       "    </tr>\n",
       "    <tr>\n",
       "      <th>1435</th>\n",
       "      <td>2017_MICHIGAN</td>\n",
       "      <td>MICHIGAN</td>\n",
       "      <td>2017</td>\n",
       "      <td>NaN</td>\n",
       "      <td>NaN</td>\n",
       "      <td>NaN</td>\n",
       "      <td>NaN</td>\n",
       "      <td>NaN</td>\n",
       "      <td>NaN</td>\n",
       "      <td>NaN</td>\n",
       "      <td>...</td>\n",
       "      <td>107959.0</td>\n",
       "      <td>114521.0</td>\n",
       "      <td>117197.0</td>\n",
       "      <td>NaN</td>\n",
       "      <td>477301.0</td>\n",
       "      <td>1516398.0</td>\n",
       "      <td>236.0</td>\n",
       "      <td>280.0</td>\n",
       "      <td>218.0</td>\n",
       "      <td>265.0</td>\n",
       "    </tr>\n",
       "    <tr>\n",
       "      <th>1685</th>\n",
       "      <td>2019_MICHIGAN</td>\n",
       "      <td>MICHIGAN</td>\n",
       "      <td>2019</td>\n",
       "      <td>NaN</td>\n",
       "      <td>NaN</td>\n",
       "      <td>NaN</td>\n",
       "      <td>NaN</td>\n",
       "      <td>NaN</td>\n",
       "      <td>NaN</td>\n",
       "      <td>NaN</td>\n",
       "      <td>...</td>\n",
       "      <td>NaN</td>\n",
       "      <td>NaN</td>\n",
       "      <td>NaN</td>\n",
       "      <td>NaN</td>\n",
       "      <td>NaN</td>\n",
       "      <td>NaN</td>\n",
       "      <td>236.0</td>\n",
       "      <td>280.0</td>\n",
       "      <td>218.0</td>\n",
       "      <td>263.0</td>\n",
       "    </tr>\n",
       "  </tbody>\n",
       "</table>\n",
       "<p>12 rows × 25 columns</p>\n",
       "</div>"
      ],
      "text/plain": [
       "        PRIMARY_KEY     STATE  YEAR     ENROLL  TOTAL_REVENUE  \\\n",
       "22    1992_MICHIGAN  MICHIGAN  1992        NaN      9963137.0   \n",
       "430   2000_MICHIGAN  MICHIGAN  2000  1700074.0     15939477.0   \n",
       "583   2003_MICHIGAN  MICHIGAN  2003  1764327.0     18488359.0   \n",
       "685   2005_MICHIGAN  MICHIGAN  2005  1721351.0     19106382.0   \n",
       "787   2007_MICHIGAN  MICHIGAN  2007  1686473.0     20576110.0   \n",
       "889   2009_MICHIGAN  MICHIGAN  2009  1537515.0     19616665.0   \n",
       "991   2011_MICHIGAN  MICHIGAN  2011  1455966.0     19374026.0   \n",
       "1093  2013_MICHIGAN  MICHIGAN  2013  1381167.0     18270327.0   \n",
       "1195  2015_MICHIGAN  MICHIGAN  2015  1345009.0     19025996.0   \n",
       "1433  1990_MICHIGAN  MICHIGAN  1990        NaN            NaN   \n",
       "1435  2017_MICHIGAN  MICHIGAN  2017        NaN            NaN   \n",
       "1685  2019_MICHIGAN  MICHIGAN  2019        NaN            NaN   \n",
       "\n",
       "      FEDERAL_REVENUE  STATE_REVENUE  LOCAL_REVENUE  TOTAL_EXPENDITURE  \\\n",
       "22           537917.0      2539380.0      6885840.0         10170688.0   \n",
       "430         1030238.0      9942275.0      4966964.0         16580526.0   \n",
       "583         1357006.0     11227903.0      5903450.0         19680370.0   \n",
       "685         1513264.0     10990030.0      6603088.0         20489512.0   \n",
       "787         1541818.0     11383198.0      7651094.0         19839838.0   \n",
       "889         2094714.0     10130740.0      7391211.0         19992550.0   \n",
       "991         2525528.0      9845508.0      7002990.0         18469948.0   \n",
       "1093        1636324.0      9882361.0      6751642.0         17468264.0   \n",
       "1195        1582706.0     10510346.0      6932944.0         17742903.0   \n",
       "1433              NaN            NaN            NaN                NaN   \n",
       "1435              NaN            NaN            NaN                NaN   \n",
       "1685              NaN            NaN            NaN                NaN   \n",
       "\n",
       "      INSTRUCTION_EXPENDITURE  ...  GRADES_4_G  GRADES_8_G  GRADES_12_G  \\\n",
       "22                  4681327.0  ...    118963.0    114282.0      90655.0   \n",
       "430                 7709336.0  ...    134163.0    128743.0     101900.0   \n",
       "583                 8725075.0  ...    127659.0    139797.0     108688.0   \n",
       "685                 9269314.0  ...    121830.0    134113.0     113351.0   \n",
       "787                 9608836.0  ...    118931.0    126608.0     126380.0   \n",
       "889                 9422685.0  ...    118702.0    121463.0     126181.0   \n",
       "991                 9198775.0  ...    112465.0    118628.0     120498.0   \n",
       "1093                8885537.0  ...    113420.0    118440.0     116607.0   \n",
       "1195                9040821.0  ...    111267.0    113640.0     114700.0   \n",
       "1433                      NaN  ...    117560.0    109328.0      91769.0   \n",
       "1435                      NaN  ...    107959.0    114521.0     117197.0   \n",
       "1685                      NaN  ...         NaN         NaN          NaN   \n",
       "\n",
       "      GRADES_1_8_G  GRADES_9_12_G  GRADES_ALL_G  AVG_MATH_4_SCORE  \\\n",
       "22             NaN            NaN     1603610.0             220.0   \n",
       "430      1053309.0       486726.0     1720626.0             229.0   \n",
       "583      1045762.0       514701.0     1757604.0             236.0   \n",
       "685      1008809.0       538642.0     1742282.0             238.0   \n",
       "787       970882.0       549291.0     1692739.0             238.0   \n",
       "889       948457.0       529531.0     1649082.0             236.0   \n",
       "991       920586.0       500042.0     1573537.0             236.0   \n",
       "1093      910594.0       487518.0     1548841.0             237.0   \n",
       "1195      887682.0       482540.0     1536231.0             236.0   \n",
       "1433           NaN            NaN     1584431.0               NaN   \n",
       "1435           NaN       477301.0     1516398.0             236.0   \n",
       "1685           NaN            NaN           NaN             236.0   \n",
       "\n",
       "      AVG_MATH_8_SCORE  AVG_READING_4_SCORE  AVG_READING_8_SCORE  \n",
       "22               267.0                216.0                  NaN  \n",
       "430              277.0                  NaN                  NaN  \n",
       "583              276.0                219.0                264.0  \n",
       "685              277.0                218.0                261.0  \n",
       "787              277.0                220.0                260.0  \n",
       "889              278.0                218.0                262.0  \n",
       "991              280.0                219.0                265.0  \n",
       "1093             280.0                217.0                266.0  \n",
       "1195             278.0                216.0                264.0  \n",
       "1433             264.0                  NaN                  NaN  \n",
       "1435             280.0                218.0                265.0  \n",
       "1685             280.0                218.0                263.0  \n",
       "\n",
       "[12 rows x 25 columns]"
      ]
     },
     "execution_count": 70,
     "metadata": {},
     "output_type": "execute_result"
    }
   ],
   "source": [
    "df[df['STATE'] == 'MICHIGAN']"
   ]
  },
  {
   "cell_type": "markdown",
   "metadata": {},
   "source": [
    "Find the average for your outcome score across all states in 2019"
   ]
  },
  {
   "cell_type": "code",
   "execution_count": 71,
   "metadata": {},
   "outputs": [
    {
     "data": {
      "text/plain": [
       "281.2641509433962"
      ]
     },
     "execution_count": 71,
     "metadata": {},
     "output_type": "execute_result"
    }
   ],
   "source": [
    "df[df['YEAR'] == 2019]['AVG_MATH_8_SCORE'].mean()"
   ]
  },
  {
   "cell_type": "markdown",
   "metadata": {},
   "source": [
    "Find the maximum outcome score for every state. \n",
    "\n",
    "Refer to the `Grouping and Aggregating` section in Tutorial 0 if you are stuck."
   ]
  },
  {
   "cell_type": "code",
   "execution_count": 72,
   "metadata": {},
   "outputs": [
    {
     "data": {
      "text/plain": [
       "STATE\n",
       "ALABAMA                 269.0\n",
       "ALASKA                  283.0\n",
       "ARIZONA                 283.0\n",
       "ARKANSAS                279.0\n",
       "CALIFORNIA              277.0\n",
       "COLORADO                292.0\n",
       "CONNECTICUT             289.0\n",
       "DELAWARE                284.0\n",
       "DISTRICT_OF_COLUMBIA    269.0\n",
       "DODEA                   293.0\n",
       "FLORIDA                 281.0\n",
       "GEORGIA                 281.0\n",
       "HAWAII                  281.0\n",
       "IDAHO                   287.0\n",
       "ILLINOIS                285.0\n",
       "INDIANA                 288.0\n",
       "IOWA                    286.0\n",
       "KANSAS                  290.0\n",
       "KENTUCKY                282.0\n",
       "LOUISIANA               273.0\n",
       "MAINE                   289.0\n",
       "MARYLAND                288.0\n",
       "MASSACHUSETTS           301.0\n",
       "MICHIGAN                280.0\n",
       "MINNESOTA               295.0\n",
       "MISSISSIPPI             274.0\n",
       "MISSOURI                286.0\n",
       "MONTANA                 293.0\n",
       "NATIONAL                285.0\n",
       "NEBRASKA                288.0\n",
       "NEVADA                  278.0\n",
       "NEW_HAMPSHIRE           296.0\n",
       "NEW_JERSEY              296.0\n",
       "NEW_MEXICO              274.0\n",
       "NEW_YORK                283.0\n",
       "NORTH_CAROLINA          286.0\n",
       "NORTH_DAKOTA            293.0\n",
       "OHIO                    290.0\n",
       "OKLAHOMA                279.0\n",
       "OREGON                  285.0\n",
       "PENNSYLVANIA            290.0\n",
       "RHODE_ISLAND            284.0\n",
       "SOUTH_CAROLINA          282.0\n",
       "SOUTH_DAKOTA            291.0\n",
       "TENNESSEE               280.0\n",
       "TEXAS                   290.0\n",
       "UTAH                    287.0\n",
       "VERMONT                 295.0\n",
       "VIRGINIA                290.0\n",
       "WASHINGTON              290.0\n",
       "WEST_VIRGINIA           274.0\n",
       "WISCONSIN               289.0\n",
       "WYOMING                 289.0\n",
       "Name: AVG_MATH_8_SCORE, dtype: float64"
      ]
     },
     "execution_count": 72,
     "metadata": {},
     "output_type": "execute_result"
    }
   ],
   "source": [
    "df.groupby(by='STATE')['AVG_MATH_8_SCORE'].max()"
   ]
  },
  {
   "cell_type": "markdown",
   "metadata": {},
   "source": [
    "<h2> Feature Engineering </h2>\n",
    "\n",
    "After exploring the data, you can choose to modify features that you would use to predict the performance of the students on your chosen response variable. \n",
    "\n",
    "You can also create your own features. For example, perhaps you figured that maybe a state's expenditure per student may affect their overall academic performance so you create a expenditure_per_student feature.\n",
    "\n",
    "Use this space to modify or create features."
   ]
  },
  {
   "cell_type": "code",
   "execution_count": 73,
   "metadata": {},
   "outputs": [
    {
     "data": {
      "text/html": [
       "<div>\n",
       "<style scoped>\n",
       "    .dataframe tbody tr th:only-of-type {\n",
       "        vertical-align: middle;\n",
       "    }\n",
       "\n",
       "    .dataframe tbody tr th {\n",
       "        vertical-align: top;\n",
       "    }\n",
       "\n",
       "    .dataframe thead th {\n",
       "        text-align: right;\n",
       "    }\n",
       "</style>\n",
       "<table border=\"1\" class=\"dataframe\">\n",
       "  <thead>\n",
       "    <tr style=\"text-align: right;\">\n",
       "      <th></th>\n",
       "      <th>PRIMARY_KEY</th>\n",
       "      <th>STATE</th>\n",
       "      <th>YEAR</th>\n",
       "      <th>ENROLL</th>\n",
       "      <th>TOTAL_REVENUE</th>\n",
       "      <th>FEDERAL_REVENUE</th>\n",
       "      <th>STATE_REVENUE</th>\n",
       "      <th>LOCAL_REVENUE</th>\n",
       "      <th>TOTAL_EXPENDITURE</th>\n",
       "      <th>INSTRUCTION_EXPENDITURE</th>\n",
       "      <th>...</th>\n",
       "      <th>GRADES_8_G</th>\n",
       "      <th>GRADES_12_G</th>\n",
       "      <th>GRADES_1_8_G</th>\n",
       "      <th>GRADES_9_12_G</th>\n",
       "      <th>GRADES_ALL_G</th>\n",
       "      <th>AVG_MATH_4_SCORE</th>\n",
       "      <th>AVG_MATH_8_SCORE</th>\n",
       "      <th>AVG_READING_4_SCORE</th>\n",
       "      <th>AVG_READING_8_SCORE</th>\n",
       "      <th>EXPENDITURE_PER_STUDENT</th>\n",
       "    </tr>\n",
       "  </thead>\n",
       "  <tbody>\n",
       "    <tr>\n",
       "      <th>408</th>\n",
       "      <td>2000_ALABAMA</td>\n",
       "      <td>ALABAMA</td>\n",
       "      <td>2000</td>\n",
       "      <td>730184.0</td>\n",
       "      <td>4885917.0</td>\n",
       "      <td>425978.0</td>\n",
       "      <td>3003814.0</td>\n",
       "      <td>1456125.0</td>\n",
       "      <td>5003267.0</td>\n",
       "      <td>2551713.0</td>\n",
       "      <td>...</td>\n",
       "      <td>56951.0</td>\n",
       "      <td>42512.0</td>\n",
       "      <td>472686.0</td>\n",
       "      <td>201358.0</td>\n",
       "      <td>739992.0</td>\n",
       "      <td>217.0</td>\n",
       "      <td>264.0</td>\n",
       "      <td>NaN</td>\n",
       "      <td>NaN</td>\n",
       "      <td>6.852063</td>\n",
       "    </tr>\n",
       "    <tr>\n",
       "      <th>410</th>\n",
       "      <td>2000_ARIZONA</td>\n",
       "      <td>ARIZONA</td>\n",
       "      <td>2000</td>\n",
       "      <td>814807.0</td>\n",
       "      <td>5479168.0</td>\n",
       "      <td>534619.0</td>\n",
       "      <td>2481089.0</td>\n",
       "      <td>2463460.0</td>\n",
       "      <td>5397194.0</td>\n",
       "      <td>2488932.0</td>\n",
       "      <td>...</td>\n",
       "      <td>65526.0</td>\n",
       "      <td>49501.0</td>\n",
       "      <td>567626.0</td>\n",
       "      <td>236933.0</td>\n",
       "      <td>877696.0</td>\n",
       "      <td>219.0</td>\n",
       "      <td>269.0</td>\n",
       "      <td>NaN</td>\n",
       "      <td>NaN</td>\n",
       "      <td>6.623893</td>\n",
       "    </tr>\n",
       "    <tr>\n",
       "      <th>411</th>\n",
       "      <td>2000_ARKANSAS</td>\n",
       "      <td>ARKANSAS</td>\n",
       "      <td>2000</td>\n",
       "      <td>450751.0</td>\n",
       "      <td>2844855.0</td>\n",
       "      <td>254735.0</td>\n",
       "      <td>2126099.0</td>\n",
       "      <td>464021.0</td>\n",
       "      <td>2683400.0</td>\n",
       "      <td>1531232.0</td>\n",
       "      <td>...</td>\n",
       "      <td>34873.0</td>\n",
       "      <td>28918.0</td>\n",
       "      <td>281091.0</td>\n",
       "      <td>131511.0</td>\n",
       "      <td>449959.0</td>\n",
       "      <td>216.0</td>\n",
       "      <td>257.0</td>\n",
       "      <td>NaN</td>\n",
       "      <td>NaN</td>\n",
       "      <td>5.953176</td>\n",
       "    </tr>\n",
       "    <tr>\n",
       "      <th>412</th>\n",
       "      <td>2000_CALIFORNIA</td>\n",
       "      <td>CALIFORNIA</td>\n",
       "      <td>2000</td>\n",
       "      <td>5941946.0</td>\n",
       "      <td>46628207.0</td>\n",
       "      <td>4024940.0</td>\n",
       "      <td>26877920.0</td>\n",
       "      <td>15725347.0</td>\n",
       "      <td>45829753.0</td>\n",
       "      <td>23514388.0</td>\n",
       "      <td>...</td>\n",
       "      <td>441877.0</td>\n",
       "      <td>357789.0</td>\n",
       "      <td>3804640.0</td>\n",
       "      <td>1707952.0</td>\n",
       "      <td>6140814.0</td>\n",
       "      <td>213.0</td>\n",
       "      <td>260.0</td>\n",
       "      <td>NaN</td>\n",
       "      <td>NaN</td>\n",
       "      <td>7.712920</td>\n",
       "    </tr>\n",
       "    <tr>\n",
       "      <th>414</th>\n",
       "      <td>2000_CONNECTICUT</td>\n",
       "      <td>CONNECTICUT</td>\n",
       "      <td>2000</td>\n",
       "      <td>530363.0</td>\n",
       "      <td>5884078.0</td>\n",
       "      <td>234321.0</td>\n",
       "      <td>2298931.0</td>\n",
       "      <td>3350826.0</td>\n",
       "      <td>5605280.0</td>\n",
       "      <td>3189123.0</td>\n",
       "      <td>...</td>\n",
       "      <td>42597.0</td>\n",
       "      <td>32591.0</td>\n",
       "      <td>354391.0</td>\n",
       "      <td>155734.0</td>\n",
       "      <td>562179.0</td>\n",
       "      <td>234.0</td>\n",
       "      <td>281.0</td>\n",
       "      <td>NaN</td>\n",
       "      <td>NaN</td>\n",
       "      <td>10.568761</td>\n",
       "    </tr>\n",
       "    <tr>\n",
       "      <th>...</th>\n",
       "      <td>...</td>\n",
       "      <td>...</td>\n",
       "      <td>...</td>\n",
       "      <td>...</td>\n",
       "      <td>...</td>\n",
       "      <td>...</td>\n",
       "      <td>...</td>\n",
       "      <td>...</td>\n",
       "      <td>...</td>\n",
       "      <td>...</td>\n",
       "      <td>...</td>\n",
       "      <td>...</td>\n",
       "      <td>...</td>\n",
       "      <td>...</td>\n",
       "      <td>...</td>\n",
       "      <td>...</td>\n",
       "      <td>...</td>\n",
       "      <td>...</td>\n",
       "      <td>...</td>\n",
       "      <td>...</td>\n",
       "      <td>...</td>\n",
       "    </tr>\n",
       "    <tr>\n",
       "      <th>1219</th>\n",
       "      <td>2015_VIRGINIA</td>\n",
       "      <td>VIRGINIA</td>\n",
       "      <td>2015</td>\n",
       "      <td>1279867.0</td>\n",
       "      <td>15857524.0</td>\n",
       "      <td>1012205.0</td>\n",
       "      <td>6240349.0</td>\n",
       "      <td>8604970.0</td>\n",
       "      <td>16113212.0</td>\n",
       "      <td>8755896.0</td>\n",
       "      <td>...</td>\n",
       "      <td>95221.0</td>\n",
       "      <td>90391.0</td>\n",
       "      <td>772414.0</td>\n",
       "      <td>386781.0</td>\n",
       "      <td>1283590.0</td>\n",
       "      <td>247.0</td>\n",
       "      <td>288.0</td>\n",
       "      <td>229.0</td>\n",
       "      <td>267.0</td>\n",
       "      <td>12.589755</td>\n",
       "    </tr>\n",
       "    <tr>\n",
       "      <th>1220</th>\n",
       "      <td>2015_WASHINGTON</td>\n",
       "      <td>WASHINGTON</td>\n",
       "      <td>2015</td>\n",
       "      <td>1072359.0</td>\n",
       "      <td>13709442.0</td>\n",
       "      <td>1036422.0</td>\n",
       "      <td>8293812.0</td>\n",
       "      <td>4379208.0</td>\n",
       "      <td>13630138.0</td>\n",
       "      <td>6508964.0</td>\n",
       "      <td>...</td>\n",
       "      <td>79483.0</td>\n",
       "      <td>89258.0</td>\n",
       "      <td>656797.0</td>\n",
       "      <td>336808.0</td>\n",
       "      <td>1087030.0</td>\n",
       "      <td>245.0</td>\n",
       "      <td>287.0</td>\n",
       "      <td>226.0</td>\n",
       "      <td>267.0</td>\n",
       "      <td>12.710424</td>\n",
       "    </tr>\n",
       "    <tr>\n",
       "      <th>1221</th>\n",
       "      <td>2015_WEST_VIRGINIA</td>\n",
       "      <td>WEST_VIRGINIA</td>\n",
       "      <td>2015</td>\n",
       "      <td>279565.0</td>\n",
       "      <td>3478401.0</td>\n",
       "      <td>362959.0</td>\n",
       "      <td>1979466.0</td>\n",
       "      <td>1135976.0</td>\n",
       "      <td>3466981.0</td>\n",
       "      <td>1819903.0</td>\n",
       "      <td>...</td>\n",
       "      <td>20426.0</td>\n",
       "      <td>18432.0</td>\n",
       "      <td>162070.0</td>\n",
       "      <td>80142.0</td>\n",
       "      <td>277452.0</td>\n",
       "      <td>235.0</td>\n",
       "      <td>271.0</td>\n",
       "      <td>216.0</td>\n",
       "      <td>260.0</td>\n",
       "      <td>12.401341</td>\n",
       "    </tr>\n",
       "    <tr>\n",
       "      <th>1222</th>\n",
       "      <td>2015_WISCONSIN</td>\n",
       "      <td>WISCONSIN</td>\n",
       "      <td>2015</td>\n",
       "      <td>861813.0</td>\n",
       "      <td>11637376.0</td>\n",
       "      <td>814385.0</td>\n",
       "      <td>5869265.0</td>\n",
       "      <td>4953726.0</td>\n",
       "      <td>11553677.0</td>\n",
       "      <td>5723474.0</td>\n",
       "      <td>...</td>\n",
       "      <td>61084.0</td>\n",
       "      <td>66253.0</td>\n",
       "      <td>489919.0</td>\n",
       "      <td>263896.0</td>\n",
       "      <td>867800.0</td>\n",
       "      <td>243.0</td>\n",
       "      <td>289.0</td>\n",
       "      <td>223.0</td>\n",
       "      <td>270.0</td>\n",
       "      <td>13.406246</td>\n",
       "    </tr>\n",
       "    <tr>\n",
       "      <th>1223</th>\n",
       "      <td>2015_WYOMING</td>\n",
       "      <td>WYOMING</td>\n",
       "      <td>2015</td>\n",
       "      <td>93867.0</td>\n",
       "      <td>1962874.0</td>\n",
       "      <td>120290.0</td>\n",
       "      <td>1116917.0</td>\n",
       "      <td>725667.0</td>\n",
       "      <td>1942406.0</td>\n",
       "      <td>895910.0</td>\n",
       "      <td>...</td>\n",
       "      <td>6902.0</td>\n",
       "      <td>6299.0</td>\n",
       "      <td>59453.0</td>\n",
       "      <td>26914.0</td>\n",
       "      <td>94717.0</td>\n",
       "      <td>247.0</td>\n",
       "      <td>287.0</td>\n",
       "      <td>228.0</td>\n",
       "      <td>269.0</td>\n",
       "      <td>20.693172</td>\n",
       "    </tr>\n",
       "  </tbody>\n",
       "</table>\n",
       "<p>397 rows × 26 columns</p>\n",
       "</div>"
      ],
      "text/plain": [
       "             PRIMARY_KEY          STATE  YEAR     ENROLL  TOTAL_REVENUE  \\\n",
       "408         2000_ALABAMA        ALABAMA  2000   730184.0      4885917.0   \n",
       "410         2000_ARIZONA        ARIZONA  2000   814807.0      5479168.0   \n",
       "411        2000_ARKANSAS       ARKANSAS  2000   450751.0      2844855.0   \n",
       "412      2000_CALIFORNIA     CALIFORNIA  2000  5941946.0     46628207.0   \n",
       "414     2000_CONNECTICUT    CONNECTICUT  2000   530363.0      5884078.0   \n",
       "...                  ...            ...   ...        ...            ...   \n",
       "1219       2015_VIRGINIA       VIRGINIA  2015  1279867.0     15857524.0   \n",
       "1220     2015_WASHINGTON     WASHINGTON  2015  1072359.0     13709442.0   \n",
       "1221  2015_WEST_VIRGINIA  WEST_VIRGINIA  2015   279565.0      3478401.0   \n",
       "1222      2015_WISCONSIN      WISCONSIN  2015   861813.0     11637376.0   \n",
       "1223        2015_WYOMING        WYOMING  2015    93867.0      1962874.0   \n",
       "\n",
       "      FEDERAL_REVENUE  STATE_REVENUE  LOCAL_REVENUE  TOTAL_EXPENDITURE  \\\n",
       "408          425978.0      3003814.0      1456125.0          5003267.0   \n",
       "410          534619.0      2481089.0      2463460.0          5397194.0   \n",
       "411          254735.0      2126099.0       464021.0          2683400.0   \n",
       "412         4024940.0     26877920.0     15725347.0         45829753.0   \n",
       "414          234321.0      2298931.0      3350826.0          5605280.0   \n",
       "...               ...            ...            ...                ...   \n",
       "1219        1012205.0      6240349.0      8604970.0         16113212.0   \n",
       "1220        1036422.0      8293812.0      4379208.0         13630138.0   \n",
       "1221         362959.0      1979466.0      1135976.0          3466981.0   \n",
       "1222         814385.0      5869265.0      4953726.0         11553677.0   \n",
       "1223         120290.0      1116917.0       725667.0          1942406.0   \n",
       "\n",
       "      INSTRUCTION_EXPENDITURE  ...  GRADES_8_G  GRADES_12_G  GRADES_1_8_G  \\\n",
       "408                 2551713.0  ...     56951.0      42512.0      472686.0   \n",
       "410                 2488932.0  ...     65526.0      49501.0      567626.0   \n",
       "411                 1531232.0  ...     34873.0      28918.0      281091.0   \n",
       "412                23514388.0  ...    441877.0     357789.0     3804640.0   \n",
       "414                 3189123.0  ...     42597.0      32591.0      354391.0   \n",
       "...                       ...  ...         ...          ...           ...   \n",
       "1219                8755896.0  ...     95221.0      90391.0      772414.0   \n",
       "1220                6508964.0  ...     79483.0      89258.0      656797.0   \n",
       "1221                1819903.0  ...     20426.0      18432.0      162070.0   \n",
       "1222                5723474.0  ...     61084.0      66253.0      489919.0   \n",
       "1223                 895910.0  ...      6902.0       6299.0       59453.0   \n",
       "\n",
       "      GRADES_9_12_G  GRADES_ALL_G  AVG_MATH_4_SCORE  AVG_MATH_8_SCORE  \\\n",
       "408        201358.0      739992.0             217.0             264.0   \n",
       "410        236933.0      877696.0             219.0             269.0   \n",
       "411        131511.0      449959.0             216.0             257.0   \n",
       "412       1707952.0     6140814.0             213.0             260.0   \n",
       "414        155734.0      562179.0             234.0             281.0   \n",
       "...             ...           ...               ...               ...   \n",
       "1219       386781.0     1283590.0             247.0             288.0   \n",
       "1220       336808.0     1087030.0             245.0             287.0   \n",
       "1221        80142.0      277452.0             235.0             271.0   \n",
       "1222       263896.0      867800.0             243.0             289.0   \n",
       "1223        26914.0       94717.0             247.0             287.0   \n",
       "\n",
       "      AVG_READING_4_SCORE  AVG_READING_8_SCORE  EXPENDITURE_PER_STUDENT  \n",
       "408                   NaN                  NaN                 6.852063  \n",
       "410                   NaN                  NaN                 6.623893  \n",
       "411                   NaN                  NaN                 5.953176  \n",
       "412                   NaN                  NaN                 7.712920  \n",
       "414                   NaN                  NaN                10.568761  \n",
       "...                   ...                  ...                      ...  \n",
       "1219                229.0                267.0                12.589755  \n",
       "1220                226.0                267.0                12.710424  \n",
       "1221                216.0                260.0                12.401341  \n",
       "1222                223.0                270.0                13.406246  \n",
       "1223                228.0                269.0                20.693172  \n",
       "\n",
       "[397 rows x 26 columns]"
      ]
     },
     "execution_count": 73,
     "metadata": {},
     "output_type": "execute_result"
    }
   ],
   "source": [
    "df['EXPENDITURE_PER_STUDENT'] = df['TOTAL_EXPENDITURE'] / df['ENROLL']\n",
    "df.dropna(subset=['EXPENDITURE_PER_STUDENT', 'AVG_MATH_8_SCORE'])"
   ]
  },
  {
   "cell_type": "markdown",
   "metadata": {},
   "source": [
    "Feature engineering justification: **<CREATE EXPENDITURE_PER_STUDENT\\>**"
   ]
  },
  {
   "cell_type": "markdown",
   "metadata": {},
   "source": [
    "<h2>Visualization</h2>\n",
    "\n",
    "Investigate the relationship between your chosen response variable and at least two predictors using visualizations. Write down your observations.\n",
    "\n",
    "**Visualization 1**"
   ]
  },
  {
   "cell_type": "code",
   "execution_count": 74,
   "metadata": {},
   "outputs": [
    {
     "name": "stderr",
     "output_type": "stream",
     "text": [
      "c:\\Users\\tony0\\anaconda3\\lib\\site-packages\\pandas\\plotting\\_matplotlib\\core.py:1041: UserWarning: No data for colormapping provided via 'c'. Parameters 'cmap' will be ignored\n",
      "  scatter = ax.scatter(\n"
     ]
    },
    {
     "data": {
      "text/plain": [
       "Text(0, 0.5, 'AVG_MATH_8_SCORE')"
      ]
     },
     "execution_count": 74,
     "metadata": {},
     "output_type": "execute_result"
    },
    {
     "data": {
      "image/png": "[encoded data removed]",
      "text/plain": [
       "<Figure size 432x288 with 1 Axes>"
      ]
     },
     "metadata": {
      "needs_background": "light"
     },
     "output_type": "display_data"
    }
   ],
   "source": [
    "df.plot.scatter(x='EXPENDITURE_PER_STUDENT', y='AVG_MATH_8_SCORE', alpha=0.6)\n",
    "plt.xlabel('EXPENDITURE_PER_STUDENT')\n",
    "plt.ylabel('AVG_MATH_8_SCORE')"
   ]
  },
  {
   "cell_type": "markdown",
   "metadata": {},
   "source": [
    "**Create a scatter plot of AVG_MATH_8_SCORE to EXPENDITURE_PER_STUDENT**\n",
    "\n",
    "There seems like a positive correlation between these two variables."
   ]
  },
  {
   "cell_type": "markdown",
   "metadata": {},
   "source": [
    "**Visualization 2**"
   ]
  },
  {
   "cell_type": "code",
   "execution_count": 75,
   "metadata": {},
   "outputs": [
    {
     "data": {
      "text/plain": [
       "Text(0, 0.5, 'AVG_MATH_8_SCORE')"
      ]
     },
     "execution_count": 75,
     "metadata": {},
     "output_type": "execute_result"
    },
    {
     "data": {
      "image/png": "[encoded data removed]",
      "text/plain": [
       "<Figure size 432x288 with 1 Axes>"
      ]
     },
     "metadata": {
      "needs_background": "light"
     },
     "output_type": "display_data"
    }
   ],
   "source": [
    "df.plot.scatter(x='AVG_MATH_4_SCORE', y='AVG_MATH_8_SCORE', alpha=0.6)\n",
    "plt.xlabel('AVG_MATH_4_SCORE')\n",
    "plt.ylabel('AVG_MATH_8_SCORE')"
   ]
  },
  {
   "cell_type": "markdown",
   "metadata": {},
   "source": [
    "**Create a scatter plot from AVG_MATH_8_SCORE TO AVG_MATH_4_SCORE**\n",
    "\n",
    "And we can see there is a strong positive correlation between these two variables."
   ]
  },
  {
   "cell_type": "markdown",
   "metadata": {},
   "source": [
    "<h2> Data Creation </h2>\n",
    "\n",
    "_Use this space to create train/test data_"
   ]
  },
  {
   "cell_type": "code",
   "execution_count": 76,
   "metadata": {},
   "outputs": [],
   "source": [
    "from sklearn.model_selection import train_test_split"
   ]
  },
  {
   "cell_type": "code",
   "execution_count": 77,
   "metadata": {},
   "outputs": [],
   "source": [
    "X = df[['EXPENDITURE_PER_STUDENT', 'AVG_MATH_4_SCORE']].dropna()\n",
    "y = df.loc[X.index]['AVG_MATH_8_SCORE']\n",
    "y.fillna(y.median(), inplace=True)"
   ]
  },
  {
   "cell_type": "code",
   "execution_count": 78,
   "metadata": {},
   "outputs": [],
   "source": [
    "X_train, X_test, y_train, y_test = train_test_split(\n",
    "      X, y, test_size=0.2, random_state=42)"
   ]
  },
  {
   "cell_type": "markdown",
   "metadata": {},
   "source": [
    "<h2> Prediction </h2>"
   ]
  },
  {
   "cell_type": "markdown",
   "metadata": {},
   "source": [
    "ML Models [Resource](https://medium.com/@vijaya.beeravalli/comparison-of-machine-learning-classification-models-for-credit-card-default-data-c3cf805c9a5a)"
   ]
  },
  {
   "cell_type": "code",
   "execution_count": 79,
   "metadata": {},
   "outputs": [],
   "source": [
    "# import your sklearn class here\n",
    "from sklearn.linear_model import LinearRegression"
   ]
  },
  {
   "cell_type": "code",
   "execution_count": 80,
   "metadata": {},
   "outputs": [],
   "source": [
    "# create your model here\n",
    "model = LinearRegression()"
   ]
  },
  {
   "cell_type": "code",
   "execution_count": 81,
   "metadata": {},
   "outputs": [
    {
     "data": {
      "text/plain": [
       "LinearRegression()"
      ]
     },
     "execution_count": 81,
     "metadata": {},
     "output_type": "execute_result"
    }
   ],
   "source": [
    "model.fit(X_train, y_train)"
   ]
  },
  {
   "cell_type": "code",
   "execution_count": 82,
   "metadata": {},
   "outputs": [],
   "source": [
    "y_pred = model.predict(X_test)"
   ]
  },
  {
   "cell_type": "markdown",
   "metadata": {},
   "source": [
    "## Evaluation"
   ]
  },
  {
   "cell_type": "markdown",
   "metadata": {},
   "source": [
    "Choose some metrics to evaluate the performance of your model, some of them are mentioned in the tutorial."
   ]
  },
  {
   "cell_type": "code",
   "execution_count": 88,
   "metadata": {},
   "outputs": [
    {
     "data": {
      "text/plain": [
       "0.7852393867111194"
      ]
     },
     "execution_count": 88,
     "metadata": {},
     "output_type": "execute_result"
    }
   ],
   "source": [
    "#R^2 value\n",
    "model.score(X_test, y_test)"
   ]
  },
  {
   "cell_type": "code",
   "execution_count": 83,
   "metadata": {},
   "outputs": [
    {
     "data": {
      "text/plain": [
       "4.314749200646527"
      ]
     },
     "execution_count": 83,
     "metadata": {},
     "output_type": "execute_result"
    }
   ],
   "source": [
    "#mean square error\n",
    "np.mean((model.predict(X_test)-y_test)**2)**0.5"
   ]
  },
  {
   "cell_type": "markdown",
   "metadata": {},
   "source": [
    "We have copied over the graphs that visualize the model's performance on the training and testing set. \n",
    "\n",
    "Change `col_name` and modify the call to `plt.ylabel()` to isolate how a single predictor affects the model."
   ]
  },
  {
   "cell_type": "code",
   "execution_count": 86,
   "metadata": {},
   "outputs": [
    {
     "data": {
      "text/plain": [
       "Text(0.5, 1.0, 'Model Behavior On Training Set')"
      ]
     },
     "execution_count": 86,
     "metadata": {},
     "output_type": "execute_result"
    },
    {
     "data": {
      "image/png": "[encoded data removed]",
      "text/plain": [
       "<Figure size 864x432 with 1 Axes>"
      ]
     },
     "metadata": {
      "needs_background": "light"
     },
     "output_type": "display_data"
    }
   ],
   "source": [
    "col_name = 'EXPENDITURE_PER_STUDENT'\n",
    "\n",
    "f = plt.figure(figsize=(12,6))\n",
    "plt.scatter(X_train[col_name], y_train, color = \"red\")\n",
    "plt.scatter(X_train[col_name], model.predict(X_train), color = \"green\")\n",
    "\n",
    "plt.legend(['True Training','Predicted Training'])\n",
    "plt.xlabel(col_name)\n",
    "plt.ylabel('EXPENDITURE_PER_STUDENT')\n",
    "plt.title(\"Model Behavior On Training Set\")"
   ]
  },
  {
   "cell_type": "code",
   "execution_count": 87,
   "metadata": {},
   "outputs": [
    {
     "data": {
      "text/plain": [
       "Text(0.5, 1.0, 'Model Behavior on Testing Set')"
      ]
     },
     "execution_count": 87,
     "metadata": {},
     "output_type": "execute_result"
    },
    {
     "data": {
      "image/png": "[encoded data removed]",
      "text/plain": [
       "<Figure size 864x432 with 1 Axes>"
      ]
     },
     "metadata": {
      "needs_background": "light"
     },
     "output_type": "display_data"
    }
   ],
   "source": [
    "col_name = 'AVG_MATH_4_SCORE'\n",
    "\n",
    "f = plt.figure(figsize=(12,6))\n",
    "plt.scatter(X_test[col_name], y_test, color = \"blue\")\n",
    "plt.scatter(X_test[col_name], model.predict(X_test), color = \"black\")\n",
    "\n",
    "plt.legend(['True testing','Predicted testing'])\n",
    "plt.xlabel(col_name)\n",
    "plt.ylabel('AVG_MATH_4_SCORE')\n",
    "plt.title(\"Model Behavior on Testing Set\")"
   ]
  },
  {
   "cell_type": "markdown",
   "metadata": {},
   "source": [
    "<h2> Summary </h2>"
   ]
  },
  {
   "cell_type": "markdown",
   "metadata": {},
   "source": [
    "I predictd the reponse variable AVG_MATH_8_SCORE based on two variables AVG_MATH_4_SCORE and EXPENDITURE_PER_STUDENT which I created based on the ENROLL and TOTAL EXPENDITURE.\n",
    "\n",
    "I used a Linear Regression model like the tutorial did, 0.8 of the dataset for training, 0.2 of the dataset for testing.\n",
    "\n",
    "The model has an R^2 value of approximately 0.78."
   ]
  }
 ],
 "metadata": {
  "kernelspec": {
   "display_name": "Python 3.9.0 64-bit",
   "language": "python",
   "name": "python3"
  },
  "language_info": {
   "codemirror_mode": {
    "name": "ipython",
    "version": 3
   },
   "file_extension": ".py",
   "mimetype": "text/x-python",
   "name": "python",
   "nbconvert_exporter": "python",
   "pygments_lexer": "ipython3",
   "version": "3.9.12"
  },
  "vscode": {
   "interpreter": {
    "hash": "6cf8df3ff69f85f626faf55c10df6fe2cb9d1236b4dc73844ee4dc01369c2c99"
   }
  }
 },
 "nbformat": 4,
 "nbformat_minor": 4
}
